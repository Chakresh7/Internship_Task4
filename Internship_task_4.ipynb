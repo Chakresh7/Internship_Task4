{
  "nbformat": 4,
  "nbformat_minor": 0,
  "metadata": {
    "colab": {
      "provenance": []
    },
    "kernelspec": {
      "name": "python3",
      "display_name": "Python 3"
    },
    "language_info": {
      "name": "python"
    }
  },
  "cells": [
    {
      "cell_type": "code",
      "execution_count": 74,
      "metadata": {
        "id": "umqFgW2mNKG7"
      },
      "outputs": [],
      "source": [
        "import numpy as np\n",
        "import pandas as pd\n",
        "import matplotlib.pyplot as plt\n",
        "import seaborn as sns\n",
        "%matplotlib inline"
      ]
    },
    {
      "cell_type": "code",
      "source": [
        "df = pd.read_csv('/content/data.csv')\n",
        "df.head()"
      ],
      "metadata": {
        "colab": {
          "base_uri": "https://localhost:8080/",
          "height": 273
        },
        "id": "ktu3kN7BNgw2",
        "outputId": "ed0ceaf1-1bad-424e-ca12-ba002e8f3908"
      },
      "execution_count": 75,
      "outputs": [
        {
          "output_type": "execute_result",
          "data": {
            "text/plain": [
              "         id diagnosis  radius_mean  texture_mean  perimeter_mean  area_mean  \\\n",
              "0    842302         M        17.99         10.38          122.80     1001.0   \n",
              "1    842517         M        20.57         17.77          132.90     1326.0   \n",
              "2  84300903         M        19.69         21.25          130.00     1203.0   \n",
              "3  84348301         M        11.42         20.38           77.58      386.1   \n",
              "4  84358402         M        20.29         14.34          135.10     1297.0   \n",
              "\n",
              "   smoothness_mean  compactness_mean  concavity_mean  concave points_mean  \\\n",
              "0          0.11840           0.27760          0.3001              0.14710   \n",
              "1          0.08474           0.07864          0.0869              0.07017   \n",
              "2          0.10960           0.15990          0.1974              0.12790   \n",
              "3          0.14250           0.28390          0.2414              0.10520   \n",
              "4          0.10030           0.13280          0.1980              0.10430   \n",
              "\n",
              "   ...  texture_worst  perimeter_worst  area_worst  smoothness_worst  \\\n",
              "0  ...          17.33           184.60      2019.0            0.1622   \n",
              "1  ...          23.41           158.80      1956.0            0.1238   \n",
              "2  ...          25.53           152.50      1709.0            0.1444   \n",
              "3  ...          26.50            98.87       567.7            0.2098   \n",
              "4  ...          16.67           152.20      1575.0            0.1374   \n",
              "\n",
              "   compactness_worst  concavity_worst  concave points_worst  symmetry_worst  \\\n",
              "0             0.6656           0.7119                0.2654          0.4601   \n",
              "1             0.1866           0.2416                0.1860          0.2750   \n",
              "2             0.4245           0.4504                0.2430          0.3613   \n",
              "3             0.8663           0.6869                0.2575          0.6638   \n",
              "4             0.2050           0.4000                0.1625          0.2364   \n",
              "\n",
              "   fractal_dimension_worst  Unnamed: 32  \n",
              "0                  0.11890          NaN  \n",
              "1                  0.08902          NaN  \n",
              "2                  0.08758          NaN  \n",
              "3                  0.17300          NaN  \n",
              "4                  0.07678          NaN  \n",
              "\n",
              "[5 rows x 33 columns]"
            ],
            "text/html": [
              "\n",
              "  <div id=\"df-db4e1ace-8d99-48d3-a7fc-5569fc963133\" class=\"colab-df-container\">\n",
              "    <div>\n",
              "<style scoped>\n",
              "    .dataframe tbody tr th:only-of-type {\n",
              "        vertical-align: middle;\n",
              "    }\n",
              "\n",
              "    .dataframe tbody tr th {\n",
              "        vertical-align: top;\n",
              "    }\n",
              "\n",
              "    .dataframe thead th {\n",
              "        text-align: right;\n",
              "    }\n",
              "</style>\n",
              "<table border=\"1\" class=\"dataframe\">\n",
              "  <thead>\n",
              "    <tr style=\"text-align: right;\">\n",
              "      <th></th>\n",
              "      <th>id</th>\n",
              "      <th>diagnosis</th>\n",
              "      <th>radius_mean</th>\n",
              "      <th>texture_mean</th>\n",
              "      <th>perimeter_mean</th>\n",
              "      <th>area_mean</th>\n",
              "      <th>smoothness_mean</th>\n",
              "      <th>compactness_mean</th>\n",
              "      <th>concavity_mean</th>\n",
              "      <th>concave points_mean</th>\n",
              "      <th>...</th>\n",
              "      <th>texture_worst</th>\n",
              "      <th>perimeter_worst</th>\n",
              "      <th>area_worst</th>\n",
              "      <th>smoothness_worst</th>\n",
              "      <th>compactness_worst</th>\n",
              "      <th>concavity_worst</th>\n",
              "      <th>concave points_worst</th>\n",
              "      <th>symmetry_worst</th>\n",
              "      <th>fractal_dimension_worst</th>\n",
              "      <th>Unnamed: 32</th>\n",
              "    </tr>\n",
              "  </thead>\n",
              "  <tbody>\n",
              "    <tr>\n",
              "      <th>0</th>\n",
              "      <td>842302</td>\n",
              "      <td>M</td>\n",
              "      <td>17.99</td>\n",
              "      <td>10.38</td>\n",
              "      <td>122.80</td>\n",
              "      <td>1001.0</td>\n",
              "      <td>0.11840</td>\n",
              "      <td>0.27760</td>\n",
              "      <td>0.3001</td>\n",
              "      <td>0.14710</td>\n",
              "      <td>...</td>\n",
              "      <td>17.33</td>\n",
              "      <td>184.60</td>\n",
              "      <td>2019.0</td>\n",
              "      <td>0.1622</td>\n",
              "      <td>0.6656</td>\n",
              "      <td>0.7119</td>\n",
              "      <td>0.2654</td>\n",
              "      <td>0.4601</td>\n",
              "      <td>0.11890</td>\n",
              "      <td>NaN</td>\n",
              "    </tr>\n",
              "    <tr>\n",
              "      <th>1</th>\n",
              "      <td>842517</td>\n",
              "      <td>M</td>\n",
              "      <td>20.57</td>\n",
              "      <td>17.77</td>\n",
              "      <td>132.90</td>\n",
              "      <td>1326.0</td>\n",
              "      <td>0.08474</td>\n",
              "      <td>0.07864</td>\n",
              "      <td>0.0869</td>\n",
              "      <td>0.07017</td>\n",
              "      <td>...</td>\n",
              "      <td>23.41</td>\n",
              "      <td>158.80</td>\n",
              "      <td>1956.0</td>\n",
              "      <td>0.1238</td>\n",
              "      <td>0.1866</td>\n",
              "      <td>0.2416</td>\n",
              "      <td>0.1860</td>\n",
              "      <td>0.2750</td>\n",
              "      <td>0.08902</td>\n",
              "      <td>NaN</td>\n",
              "    </tr>\n",
              "    <tr>\n",
              "      <th>2</th>\n",
              "      <td>84300903</td>\n",
              "      <td>M</td>\n",
              "      <td>19.69</td>\n",
              "      <td>21.25</td>\n",
              "      <td>130.00</td>\n",
              "      <td>1203.0</td>\n",
              "      <td>0.10960</td>\n",
              "      <td>0.15990</td>\n",
              "      <td>0.1974</td>\n",
              "      <td>0.12790</td>\n",
              "      <td>...</td>\n",
              "      <td>25.53</td>\n",
              "      <td>152.50</td>\n",
              "      <td>1709.0</td>\n",
              "      <td>0.1444</td>\n",
              "      <td>0.4245</td>\n",
              "      <td>0.4504</td>\n",
              "      <td>0.2430</td>\n",
              "      <td>0.3613</td>\n",
              "      <td>0.08758</td>\n",
              "      <td>NaN</td>\n",
              "    </tr>\n",
              "    <tr>\n",
              "      <th>3</th>\n",
              "      <td>84348301</td>\n",
              "      <td>M</td>\n",
              "      <td>11.42</td>\n",
              "      <td>20.38</td>\n",
              "      <td>77.58</td>\n",
              "      <td>386.1</td>\n",
              "      <td>0.14250</td>\n",
              "      <td>0.28390</td>\n",
              "      <td>0.2414</td>\n",
              "      <td>0.10520</td>\n",
              "      <td>...</td>\n",
              "      <td>26.50</td>\n",
              "      <td>98.87</td>\n",
              "      <td>567.7</td>\n",
              "      <td>0.2098</td>\n",
              "      <td>0.8663</td>\n",
              "      <td>0.6869</td>\n",
              "      <td>0.2575</td>\n",
              "      <td>0.6638</td>\n",
              "      <td>0.17300</td>\n",
              "      <td>NaN</td>\n",
              "    </tr>\n",
              "    <tr>\n",
              "      <th>4</th>\n",
              "      <td>84358402</td>\n",
              "      <td>M</td>\n",
              "      <td>20.29</td>\n",
              "      <td>14.34</td>\n",
              "      <td>135.10</td>\n",
              "      <td>1297.0</td>\n",
              "      <td>0.10030</td>\n",
              "      <td>0.13280</td>\n",
              "      <td>0.1980</td>\n",
              "      <td>0.10430</td>\n",
              "      <td>...</td>\n",
              "      <td>16.67</td>\n",
              "      <td>152.20</td>\n",
              "      <td>1575.0</td>\n",
              "      <td>0.1374</td>\n",
              "      <td>0.2050</td>\n",
              "      <td>0.4000</td>\n",
              "      <td>0.1625</td>\n",
              "      <td>0.2364</td>\n",
              "      <td>0.07678</td>\n",
              "      <td>NaN</td>\n",
              "    </tr>\n",
              "  </tbody>\n",
              "</table>\n",
              "<p>5 rows × 33 columns</p>\n",
              "</div>\n",
              "    <div class=\"colab-df-buttons\">\n",
              "\n",
              "  <div class=\"colab-df-container\">\n",
              "    <button class=\"colab-df-convert\" onclick=\"convertToInteractive('df-db4e1ace-8d99-48d3-a7fc-5569fc963133')\"\n",
              "            title=\"Convert this dataframe to an interactive table.\"\n",
              "            style=\"display:none;\">\n",
              "\n",
              "  <svg xmlns=\"http://www.w3.org/2000/svg\" height=\"24px\" viewBox=\"0 -960 960 960\">\n",
              "    <path d=\"M120-120v-720h720v720H120Zm60-500h600v-160H180v160Zm220 220h160v-160H400v160Zm0 220h160v-160H400v160ZM180-400h160v-160H180v160Zm440 0h160v-160H620v160ZM180-180h160v-160H180v160Zm440 0h160v-160H620v160Z\"/>\n",
              "  </svg>\n",
              "    </button>\n",
              "\n",
              "  <style>\n",
              "    .colab-df-container {\n",
              "      display:flex;\n",
              "      gap: 12px;\n",
              "    }\n",
              "\n",
              "    .colab-df-convert {\n",
              "      background-color: #E8F0FE;\n",
              "      border: none;\n",
              "      border-radius: 50%;\n",
              "      cursor: pointer;\n",
              "      display: none;\n",
              "      fill: #1967D2;\n",
              "      height: 32px;\n",
              "      padding: 0 0 0 0;\n",
              "      width: 32px;\n",
              "    }\n",
              "\n",
              "    .colab-df-convert:hover {\n",
              "      background-color: #E2EBFA;\n",
              "      box-shadow: 0px 1px 2px rgba(60, 64, 67, 0.3), 0px 1px 3px 1px rgba(60, 64, 67, 0.15);\n",
              "      fill: #174EA6;\n",
              "    }\n",
              "\n",
              "    .colab-df-buttons div {\n",
              "      margin-bottom: 4px;\n",
              "    }\n",
              "\n",
              "    [theme=dark] .colab-df-convert {\n",
              "      background-color: #3B4455;\n",
              "      fill: #D2E3FC;\n",
              "    }\n",
              "\n",
              "    [theme=dark] .colab-df-convert:hover {\n",
              "      background-color: #434B5C;\n",
              "      box-shadow: 0px 1px 3px 1px rgba(0, 0, 0, 0.15);\n",
              "      filter: drop-shadow(0px 1px 2px rgba(0, 0, 0, 0.3));\n",
              "      fill: #FFFFFF;\n",
              "    }\n",
              "  </style>\n",
              "\n",
              "    <script>\n",
              "      const buttonEl =\n",
              "        document.querySelector('#df-db4e1ace-8d99-48d3-a7fc-5569fc963133 button.colab-df-convert');\n",
              "      buttonEl.style.display =\n",
              "        google.colab.kernel.accessAllowed ? 'block' : 'none';\n",
              "\n",
              "      async function convertToInteractive(key) {\n",
              "        const element = document.querySelector('#df-db4e1ace-8d99-48d3-a7fc-5569fc963133');\n",
              "        const dataTable =\n",
              "          await google.colab.kernel.invokeFunction('convertToInteractive',\n",
              "                                                    [key], {});\n",
              "        if (!dataTable) return;\n",
              "\n",
              "        const docLinkHtml = 'Like what you see? Visit the ' +\n",
              "          '<a target=\"_blank\" href=https://colab.research.google.com/notebooks/data_table.ipynb>data table notebook</a>'\n",
              "          + ' to learn more about interactive tables.';\n",
              "        element.innerHTML = '';\n",
              "        dataTable['output_type'] = 'display_data';\n",
              "        await google.colab.output.renderOutput(dataTable, element);\n",
              "        const docLink = document.createElement('div');\n",
              "        docLink.innerHTML = docLinkHtml;\n",
              "        element.appendChild(docLink);\n",
              "      }\n",
              "    </script>\n",
              "  </div>\n",
              "\n",
              "\n",
              "    <div id=\"df-d77aa11d-7213-4966-b1f6-f2f32102c783\">\n",
              "      <button class=\"colab-df-quickchart\" onclick=\"quickchart('df-d77aa11d-7213-4966-b1f6-f2f32102c783')\"\n",
              "                title=\"Suggest charts\"\n",
              "                style=\"display:none;\">\n",
              "\n",
              "<svg xmlns=\"http://www.w3.org/2000/svg\" height=\"24px\"viewBox=\"0 0 24 24\"\n",
              "     width=\"24px\">\n",
              "    <g>\n",
              "        <path d=\"M19 3H5c-1.1 0-2 .9-2 2v14c0 1.1.9 2 2 2h14c1.1 0 2-.9 2-2V5c0-1.1-.9-2-2-2zM9 17H7v-7h2v7zm4 0h-2V7h2v10zm4 0h-2v-4h2v4z\"/>\n",
              "    </g>\n",
              "</svg>\n",
              "      </button>\n",
              "\n",
              "<style>\n",
              "  .colab-df-quickchart {\n",
              "      --bg-color: #E8F0FE;\n",
              "      --fill-color: #1967D2;\n",
              "      --hover-bg-color: #E2EBFA;\n",
              "      --hover-fill-color: #174EA6;\n",
              "      --disabled-fill-color: #AAA;\n",
              "      --disabled-bg-color: #DDD;\n",
              "  }\n",
              "\n",
              "  [theme=dark] .colab-df-quickchart {\n",
              "      --bg-color: #3B4455;\n",
              "      --fill-color: #D2E3FC;\n",
              "      --hover-bg-color: #434B5C;\n",
              "      --hover-fill-color: #FFFFFF;\n",
              "      --disabled-bg-color: #3B4455;\n",
              "      --disabled-fill-color: #666;\n",
              "  }\n",
              "\n",
              "  .colab-df-quickchart {\n",
              "    background-color: var(--bg-color);\n",
              "    border: none;\n",
              "    border-radius: 50%;\n",
              "    cursor: pointer;\n",
              "    display: none;\n",
              "    fill: var(--fill-color);\n",
              "    height: 32px;\n",
              "    padding: 0;\n",
              "    width: 32px;\n",
              "  }\n",
              "\n",
              "  .colab-df-quickchart:hover {\n",
              "    background-color: var(--hover-bg-color);\n",
              "    box-shadow: 0 1px 2px rgba(60, 64, 67, 0.3), 0 1px 3px 1px rgba(60, 64, 67, 0.15);\n",
              "    fill: var(--button-hover-fill-color);\n",
              "  }\n",
              "\n",
              "  .colab-df-quickchart-complete:disabled,\n",
              "  .colab-df-quickchart-complete:disabled:hover {\n",
              "    background-color: var(--disabled-bg-color);\n",
              "    fill: var(--disabled-fill-color);\n",
              "    box-shadow: none;\n",
              "  }\n",
              "\n",
              "  .colab-df-spinner {\n",
              "    border: 2px solid var(--fill-color);\n",
              "    border-color: transparent;\n",
              "    border-bottom-color: var(--fill-color);\n",
              "    animation:\n",
              "      spin 1s steps(1) infinite;\n",
              "  }\n",
              "\n",
              "  @keyframes spin {\n",
              "    0% {\n",
              "      border-color: transparent;\n",
              "      border-bottom-color: var(--fill-color);\n",
              "      border-left-color: var(--fill-color);\n",
              "    }\n",
              "    20% {\n",
              "      border-color: transparent;\n",
              "      border-left-color: var(--fill-color);\n",
              "      border-top-color: var(--fill-color);\n",
              "    }\n",
              "    30% {\n",
              "      border-color: transparent;\n",
              "      border-left-color: var(--fill-color);\n",
              "      border-top-color: var(--fill-color);\n",
              "      border-right-color: var(--fill-color);\n",
              "    }\n",
              "    40% {\n",
              "      border-color: transparent;\n",
              "      border-right-color: var(--fill-color);\n",
              "      border-top-color: var(--fill-color);\n",
              "    }\n",
              "    60% {\n",
              "      border-color: transparent;\n",
              "      border-right-color: var(--fill-color);\n",
              "    }\n",
              "    80% {\n",
              "      border-color: transparent;\n",
              "      border-right-color: var(--fill-color);\n",
              "      border-bottom-color: var(--fill-color);\n",
              "    }\n",
              "    90% {\n",
              "      border-color: transparent;\n",
              "      border-bottom-color: var(--fill-color);\n",
              "    }\n",
              "  }\n",
              "</style>\n",
              "\n",
              "      <script>\n",
              "        async function quickchart(key) {\n",
              "          const quickchartButtonEl =\n",
              "            document.querySelector('#' + key + ' button');\n",
              "          quickchartButtonEl.disabled = true;  // To prevent multiple clicks.\n",
              "          quickchartButtonEl.classList.add('colab-df-spinner');\n",
              "          try {\n",
              "            const charts = await google.colab.kernel.invokeFunction(\n",
              "                'suggestCharts', [key], {});\n",
              "          } catch (error) {\n",
              "            console.error('Error during call to suggestCharts:', error);\n",
              "          }\n",
              "          quickchartButtonEl.classList.remove('colab-df-spinner');\n",
              "          quickchartButtonEl.classList.add('colab-df-quickchart-complete');\n",
              "        }\n",
              "        (() => {\n",
              "          let quickchartButtonEl =\n",
              "            document.querySelector('#df-d77aa11d-7213-4966-b1f6-f2f32102c783 button');\n",
              "          quickchartButtonEl.style.display =\n",
              "            google.colab.kernel.accessAllowed ? 'block' : 'none';\n",
              "        })();\n",
              "      </script>\n",
              "    </div>\n",
              "\n",
              "    </div>\n",
              "  </div>\n"
            ],
            "application/vnd.google.colaboratory.intrinsic+json": {
              "type": "dataframe",
              "variable_name": "df"
            }
          },
          "metadata": {},
          "execution_count": 75
        }
      ]
    },
    {
      "cell_type": "code",
      "source": [
        "df.shape"
      ],
      "metadata": {
        "colab": {
          "base_uri": "https://localhost:8080/"
        },
        "id": "-AxGsIunNz3S",
        "outputId": "25479aae-32a6-496f-b3af-1d2c2727f231"
      },
      "execution_count": 76,
      "outputs": [
        {
          "output_type": "execute_result",
          "data": {
            "text/plain": [
              "(569, 33)"
            ]
          },
          "metadata": {},
          "execution_count": 76
        }
      ]
    },
    {
      "cell_type": "code",
      "source": [
        "df.info()"
      ],
      "metadata": {
        "colab": {
          "base_uri": "https://localhost:8080/"
        },
        "id": "qbvNxNU1N118",
        "outputId": "46e69b8b-0e7d-4395-e024-beb97202ff15"
      },
      "execution_count": 77,
      "outputs": [
        {
          "output_type": "stream",
          "name": "stdout",
          "text": [
            "<class 'pandas.core.frame.DataFrame'>\n",
            "RangeIndex: 569 entries, 0 to 568\n",
            "Data columns (total 33 columns):\n",
            " #   Column                   Non-Null Count  Dtype  \n",
            "---  ------                   --------------  -----  \n",
            " 0   id                       569 non-null    int64  \n",
            " 1   diagnosis                569 non-null    object \n",
            " 2   radius_mean              569 non-null    float64\n",
            " 3   texture_mean             569 non-null    float64\n",
            " 4   perimeter_mean           569 non-null    float64\n",
            " 5   area_mean                569 non-null    float64\n",
            " 6   smoothness_mean          569 non-null    float64\n",
            " 7   compactness_mean         569 non-null    float64\n",
            " 8   concavity_mean           569 non-null    float64\n",
            " 9   concave points_mean      569 non-null    float64\n",
            " 10  symmetry_mean            569 non-null    float64\n",
            " 11  fractal_dimension_mean   569 non-null    float64\n",
            " 12  radius_se                569 non-null    float64\n",
            " 13  texture_se               569 non-null    float64\n",
            " 14  perimeter_se             569 non-null    float64\n",
            " 15  area_se                  569 non-null    float64\n",
            " 16  smoothness_se            569 non-null    float64\n",
            " 17  compactness_se           569 non-null    float64\n",
            " 18  concavity_se             569 non-null    float64\n",
            " 19  concave points_se        569 non-null    float64\n",
            " 20  symmetry_se              569 non-null    float64\n",
            " 21  fractal_dimension_se     569 non-null    float64\n",
            " 22  radius_worst             569 non-null    float64\n",
            " 23  texture_worst            569 non-null    float64\n",
            " 24  perimeter_worst          569 non-null    float64\n",
            " 25  area_worst               569 non-null    float64\n",
            " 26  smoothness_worst         569 non-null    float64\n",
            " 27  compactness_worst        569 non-null    float64\n",
            " 28  concavity_worst          569 non-null    float64\n",
            " 29  concave points_worst     569 non-null    float64\n",
            " 30  symmetry_worst           569 non-null    float64\n",
            " 31  fractal_dimension_worst  569 non-null    float64\n",
            " 32  Unnamed: 32              0 non-null      float64\n",
            "dtypes: float64(31), int64(1), object(1)\n",
            "memory usage: 146.8+ KB\n"
          ]
        }
      ]
    },
    {
      "cell_type": "code",
      "metadata": {
        "id": "39b1f3e6"
      },
      "source": [
        "from sklearn.model_selection import train_test_split\n",
        "from sklearn.preprocessing import StandardScaler\n",
        "\n",
        "# Separate features and target\n",
        "X = df.drop(['Unnamed: 32', 'diagnosis'], axis=1) # Assuming 'Unnamed: 32' is an irrelevant column and dropping diagnosis as it is the target\n",
        "y = df['diagnosis'] # Correctly using 'diagnosis' as the target column\n",
        "\n",
        "# Split data into training and testing sets\n",
        "X_train, X_test, y_train, y_test = train_test_split(X, y, test_size=0.2, random_state=42)\n",
        "\n",
        "# Standardize features\n",
        "scaler = StandardScaler()\n",
        "X_train = scaler.fit_transform(X_train)\n",
        "X_test = scaler.transform(X_test)"
      ],
      "execution_count": 78,
      "outputs": []
    },
    {
      "cell_type": "markdown",
      "metadata": {
        "id": "b2ee5419"
      },
      "source": [
        "The data has been split into training and testing sets, and the features have been standardized."
      ]
    },
    {
      "cell_type": "code",
      "source": [
        "from sklearn.linear_model import LogisticRegression\n",
        "logisticreg = LogisticRegression()\n",
        "\n",
        "logisticreg.fit(X_train, y_train)\n",
        "\n",
        "y_pred = logisticreg.predict(X_test)"
      ],
      "metadata": {
        "id": "Y4nvEaJaPXQr"
      },
      "execution_count": 79,
      "outputs": []
    },
    {
      "cell_type": "code",
      "source": [
        "y_pred"
      ],
      "metadata": {
        "colab": {
          "base_uri": "https://localhost:8080/"
        },
        "id": "DO9p3KoZPooC",
        "outputId": "a5686101-2622-495b-f3bc-54611bdac936"
      },
      "execution_count": 80,
      "outputs": [
        {
          "output_type": "execute_result",
          "data": {
            "text/plain": [
              "array(['B', 'M', 'M', 'B', 'B', 'M', 'M', 'M', 'B', 'B', 'B', 'M', 'B',\n",
              "       'M', 'B', 'M', 'B', 'B', 'B', 'M', 'B', 'B', 'M', 'B', 'B', 'B',\n",
              "       'B', 'B', 'B', 'M', 'B', 'B', 'B', 'B', 'B', 'B', 'M', 'B', 'M',\n",
              "       'B', 'B', 'M', 'B', 'B', 'B', 'B', 'B', 'B', 'B', 'B', 'M', 'M',\n",
              "       'B', 'B', 'B', 'B', 'B', 'M', 'M', 'B', 'B', 'M', 'M', 'B', 'B',\n",
              "       'B', 'M', 'M', 'B', 'B', 'M', 'M', 'B', 'M', 'B', 'B', 'B', 'B',\n",
              "       'B', 'B', 'M', 'B', 'M', 'M', 'M', 'M', 'M', 'M', 'B', 'B', 'B',\n",
              "       'B', 'B', 'B', 'B', 'B', 'M', 'M', 'B', 'M', 'M', 'B', 'M', 'M',\n",
              "       'B', 'B', 'B', 'M', 'B', 'B', 'M', 'B', 'M', 'M'], dtype=object)"
            ]
          },
          "metadata": {},
          "execution_count": 80
        }
      ]
    },
    {
      "cell_type": "code",
      "source": [
        "from sklearn.metrics import confusion_matrix, accuracy_score, classification_report\n",
        "\n",
        "data = confusion_matrix(y_test,y_pred)\n",
        "sns.heatmap(data,annot=True,fmt='d',cmap='coolwarm')\n",
        "plt.xlabel('Predicted')\n",
        "plt.ylabel('Truth')"
      ],
      "metadata": {
        "colab": {
          "base_uri": "https://localhost:8080/",
          "height": 472
        },
        "id": "V670wMbXP9A7",
        "outputId": "347f5634-7dd9-4f72-ccbd-3f5105b2ea02"
      },
      "execution_count": 81,
      "outputs": [
        {
          "output_type": "execute_result",
          "data": {
            "text/plain": [
              "Text(50.722222222222214, 0.5, 'Truth')"
            ]
          },
          "metadata": {},
          "execution_count": 81
        },
        {
          "output_type": "display_data",
          "data": {
            "text/plain": [
              "<Figure size 640x480 with 2 Axes>"
            ],
            "image/png": "[encoded data removed]"
          },
          "metadata": {}
        }
      ]
    },
    {
      "cell_type": "code",
      "source": [
        "accuracy = round(accuracy_score(y_test,y_pred),2)*100\n",
        "print(f\"Accuracy for the Classification Model: {accuracy} %\")"
      ],
      "metadata": {
        "colab": {
          "base_uri": "https://localhost:8080/"
        },
        "id": "u2m1_mXbQxGX",
        "outputId": "4837704d-3751-4af9-ed47-cab1a9eb07f9"
      },
      "execution_count": 82,
      "outputs": [
        {
          "output_type": "stream",
          "name": "stdout",
          "text": [
            "Accuracy for the Classification Model: 97.0 %\n"
          ]
        }
      ]
    },
    {
      "cell_type": "code",
      "source": [
        "report = classification_report(y_test,y_pred)\n",
        "print(report)"
      ],
      "metadata": {
        "colab": {
          "base_uri": "https://localhost:8080/"
        },
        "id": "vkB2HRx1REN5",
        "outputId": "edd75221-86f8-40b8-b33d-ddc7096682e0"
      },
      "execution_count": 83,
      "outputs": [
        {
          "output_type": "stream",
          "name": "stdout",
          "text": [
            "              precision    recall  f1-score   support\n",
            "\n",
            "           B       0.97      0.99      0.98        71\n",
            "           M       0.98      0.95      0.96        43\n",
            "\n",
            "    accuracy                           0.97       114\n",
            "   macro avg       0.97      0.97      0.97       114\n",
            "weighted avg       0.97      0.97      0.97       114\n",
            "\n"
          ]
        }
      ]
    },
    {
      "cell_type": "markdown",
      "metadata": {
        "id": "5173b074"
      },
      "source": [
        "We can get the predicted probabilities for each class using the `predict_proba` method. This will return an array where each row represents a sample and the columns represent the probability of belonging to each class (in this case, 'B' and 'M')."
      ]
    },
    {
      "cell_type": "code",
      "metadata": {
        "colab": {
          "base_uri": "https://localhost:8080/",
          "height": 1000
        },
        "id": "3342178f",
        "outputId": "1dfedd44-5e53-407f-a594-4454084ee527"
      },
      "source": [
        "y_pred_proba = logisticreg.predict_proba(X_test)\n",
        "display(y_pred_proba)"
      ],
      "execution_count": 84,
      "outputs": [
        {
          "output_type": "display_data",
          "data": {
            "text/plain": [
              "array([[8.88923128e-01, 1.11076872e-01],\n",
              "       [9.23186175e-06, 9.99990768e-01],\n",
              "       [3.20342153e-03, 9.96796578e-01],\n",
              "       [9.99542270e-01, 4.57729523e-04],\n",
              "       [9.99950272e-01, 4.97283208e-05],\n",
              "       [9.23363608e-11, 1.00000000e+00],\n",
              "       [1.49064805e-09, 9.99999999e-01],\n",
              "       [3.61239979e-02, 9.63876002e-01],\n",
              "       [6.16809104e-01, 3.83190896e-01],\n",
              "       [9.99233887e-01, 7.66113091e-04],\n",
              "       [9.50614298e-01, 4.93857021e-02],\n",
              "       [1.28253244e-02, 9.87174676e-01],\n",
              "       [9.93936285e-01, 6.06371549e-03],\n",
              "       [1.59014429e-01, 8.40985571e-01],\n",
              "       [9.98118462e-01, 1.88153808e-03],\n",
              "       [7.40982799e-04, 9.99259017e-01],\n",
              "       [9.98322549e-01, 1.67745091e-03],\n",
              "       [9.99990467e-01, 9.53340968e-06],\n",
              "       [9.99999219e-01, 7.81050316e-07],\n",
              "       [1.10792357e-06, 9.99998892e-01],\n",
              "       [9.12680767e-01, 8.73192331e-02],\n",
              "       [9.90785337e-01, 9.21466316e-03],\n",
              "       [4.40603354e-09, 9.99999996e-01],\n",
              "       [9.99919366e-01, 8.06335924e-05],\n",
              "       [9.98830083e-01, 1.16991655e-03],\n",
              "       [9.99565384e-01, 4.34616277e-04],\n",
              "       [9.98933601e-01, 1.06639942e-03],\n",
              "       [9.94718886e-01, 5.28111369e-03],\n",
              "       [9.97129494e-01, 2.87050578e-03],\n",
              "       [8.27389050e-06, 9.99991726e-01],\n",
              "       [9.99452890e-01, 5.47110494e-04],\n",
              "       [9.99856029e-01, 1.43970906e-04],\n",
              "       [9.98096831e-01, 1.90316938e-03],\n",
              "       [9.93699247e-01, 6.30075257e-03],\n",
              "       [9.99860767e-01, 1.39233363e-04],\n",
              "       [9.97394136e-01, 2.60586384e-03],\n",
              "       [5.77601970e-02, 9.42239803e-01],\n",
              "       [9.97107535e-01, 2.89246508e-03],\n",
              "       [8.78664758e-05, 9.99912134e-01],\n",
              "       [9.51994051e-01, 4.80059494e-02],\n",
              "       [9.99931316e-01, 6.86841211e-05],\n",
              "       [4.26262341e-04, 9.99573738e-01],\n",
              "       [9.97544949e-01, 2.45505069e-03],\n",
              "       [9.99027561e-01, 9.72438637e-04],\n",
              "       [9.83621942e-01, 1.63780580e-02],\n",
              "       [9.27939888e-01, 7.20601120e-02],\n",
              "       [9.99674499e-01, 3.25500933e-04],\n",
              "       [9.99529900e-01, 4.70099755e-04],\n",
              "       [9.64370376e-01, 3.56296243e-02],\n",
              "       [9.99398736e-01, 6.01263614e-04],\n",
              "       [1.19331023e-04, 9.99880669e-01],\n",
              "       [5.26533598e-08, 9.99999947e-01],\n",
              "       [6.80766789e-01, 3.19233211e-01],\n",
              "       [9.88768438e-01, 1.12315620e-02],\n",
              "       [9.99976235e-01, 2.37649920e-05],\n",
              "       [9.61615229e-01, 3.83847713e-02],\n",
              "       [9.99897815e-01, 1.02185032e-04],\n",
              "       [7.57549579e-12, 1.00000000e+00],\n",
              "       [1.53597283e-01, 8.46402717e-01],\n",
              "       [9.99863609e-01, 1.36391183e-04],\n",
              "       [9.95043263e-01, 4.95673653e-03],\n",
              "       [4.15011518e-07, 9.99999585e-01],\n",
              "       [1.71618675e-09, 9.99999998e-01],\n",
              "       [9.69253913e-01, 3.07460869e-02],\n",
              "       [9.99219007e-01, 7.80993059e-04],\n",
              "       [8.49599102e-01, 1.50400898e-01],\n",
              "       [1.40620441e-05, 9.99985938e-01],\n",
              "       [2.04758810e-09, 9.99999998e-01],\n",
              "       [9.99227079e-01, 7.72921464e-04],\n",
              "       [9.79783981e-01, 2.02160187e-02],\n",
              "       [1.54328630e-03, 9.98456714e-01],\n",
              "       [1.45339094e-03, 9.98546609e-01],\n",
              "       [9.97439104e-01, 2.56089627e-03],\n",
              "       [4.04395026e-03, 9.95956050e-01],\n",
              "       [9.99919327e-01, 8.06734145e-05],\n",
              "       [9.89053091e-01, 1.09469086e-02],\n",
              "       [9.78840709e-01, 2.11592907e-02],\n",
              "       [5.21018968e-01, 4.78981032e-01],\n",
              "       [9.99973550e-01, 2.64501105e-05],\n",
              "       [9.86527095e-01, 1.34729047e-02],\n",
              "       [3.88576675e-03, 9.96114233e-01],\n",
              "       [9.99937113e-01, 6.28866261e-05],\n",
              "       [2.16914871e-01, 7.83085129e-01],\n",
              "       [1.03385219e-08, 9.99999990e-01],\n",
              "       [3.96095577e-03, 9.96039044e-01],\n",
              "       [1.24091880e-03, 9.98759081e-01],\n",
              "       [1.09794024e-04, 9.99890206e-01],\n",
              "       [1.41597717e-04, 9.99858402e-01],\n",
              "       [9.99771558e-01, 2.28442440e-04],\n",
              "       [9.96702990e-01, 3.29701046e-03],\n",
              "       [9.94513240e-01, 5.48675982e-03],\n",
              "       [6.38726469e-01, 3.61273531e-01],\n",
              "       [9.65316785e-01, 3.46832153e-02],\n",
              "       [9.99699496e-01, 3.00503598e-04],\n",
              "       [9.99656564e-01, 3.43435828e-04],\n",
              "       [9.99886349e-01, 1.13650511e-04],\n",
              "       [6.95499105e-07, 9.99999305e-01],\n",
              "       [9.77924395e-07, 9.99999022e-01],\n",
              "       [9.99925672e-01, 7.43284539e-05],\n",
              "       [3.47188802e-04, 9.99652811e-01],\n",
              "       [3.23770560e-03, 9.96762294e-01],\n",
              "       [9.99998457e-01, 1.54323999e-06],\n",
              "       [1.72255933e-05, 9.99982774e-01],\n",
              "       [5.64179864e-04, 9.99435820e-01],\n",
              "       [9.90080905e-01, 9.91909515e-03],\n",
              "       [9.64690916e-01, 3.53090838e-02],\n",
              "       [9.94907496e-01, 5.09250422e-03],\n",
              "       [1.31279654e-10, 1.00000000e+00],\n",
              "       [8.76894533e-01, 1.23105467e-01],\n",
              "       [9.68138546e-01, 3.18614540e-02],\n",
              "       [7.65980426e-04, 9.99234020e-01],\n",
              "       [9.98732158e-01, 1.26784168e-03],\n",
              "       [4.60605711e-01, 5.39394289e-01],\n",
              "       [6.67910172e-13, 1.00000000e+00]])"
            ]
          },
          "metadata": {}
        }
      ]
    },
    {
      "cell_type": "markdown",
      "metadata": {
        "id": "36bb989c"
      },
      "source": [
        "Now, we can apply a custom threshold to these probabilities to classify the instances. For example, let's try a threshold of 0.3 for the positive class ('M'). If the probability of 'M' is greater than 0.3, we will classify it as 'M'; otherwise, as 'B'."
      ]
    },
    {
      "cell_type": "code",
      "metadata": {
        "colab": {
          "base_uri": "https://localhost:8080/"
        },
        "id": "68b159da",
        "outputId": "0bea4c06-8ea5-4975-b081-de9d896ba7c6"
      },
      "source": [
        "custom_threshold = 0.3\n",
        "y_pred_custom_threshold = ['M' if prob[1] > custom_threshold else 'B' for prob in y_pred_proba]\n",
        "\n",
        "# You can now evaluate the model's performance with this custom threshold\n",
        "print(\"Classification Report with Custom Threshold:\")\n",
        "print(classification_report(y_test, y_pred_custom_threshold))"
      ],
      "execution_count": 85,
      "outputs": [
        {
          "output_type": "stream",
          "name": "stdout",
          "text": [
            "Classification Report with Custom Threshold:\n",
            "              precision    recall  f1-score   support\n",
            "\n",
            "           B       0.99      0.94      0.96        71\n",
            "           M       0.91      0.98      0.94        43\n",
            "\n",
            "    accuracy                           0.96       114\n",
            "   macro avg       0.95      0.96      0.95       114\n",
            "weighted avg       0.96      0.96      0.96       114\n",
            "\n"
          ]
        }
      ]
    },
    {
      "cell_type": "markdown",
      "metadata": {
        "id": "6a99c728"
      },
      "source": [
        "## Summary of the Notebook\n",
        "\n",
        "Here is a summary of the work done in this notebook:\n",
        "\n",
        "1.  **Data Loading and Exploration:** We loaded the breast cancer dataset and performed initial exploration to understand its structure and content using `df.head()`, `df.shape`, and `df.info()`.\n",
        "2.  **Data Preprocessing:** We separated the features (X) and the target variable (y), which is the 'diagnosis' column. We then split the data into training and testing sets and standardized the features using `StandardScaler`.\n",
        "3.  **Model Training:** We trained a Logistic Regression model on the standardized training data.\n",
        "4.  **Model Evaluation:** We evaluated the model's performance using a confusion matrix, accuracy score, and classification report. The initial accuracy was 97%.\n",
        "5.  **Threshold Tuning:** We explored how to tune the classification threshold by obtaining the predicted probabilities using `predict_proba` and then applying a custom threshold (0.3 in the example) to see its effect on the classification report.\n",
        "\n",
        "This process allowed us to build and evaluate a logistic regression model for breast cancer diagnosis and understand how to adjust the classification threshold based on specific needs."
      ]
    }
  ]
}